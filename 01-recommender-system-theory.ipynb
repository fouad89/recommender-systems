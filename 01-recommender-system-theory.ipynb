{
 "cells": [
  {
   "cell_type": "markdown",
   "source": [
    "# Recommender Systems Theory\n",
    "<li>Given a dataset of triples (user, item, rating)</li>\n",
    "<li>We can fit a model to the data f(u, m) --> r</li>\n",
    "<li>The model will do 2 things:</li>\n",
    "<li>#1 if the user u and movie m appeared in the dataset, then the predicted r should be close to the true r</li>\n",
    "<li>predict what a user u would rate a movie m even if it didn't appear in datset</li>\n",
    "\n",
    "# How to recommend:\n",
    "<li>The model can predict ratings for unseen movies</li>\n",
    "<li>for a given user, get a prediction for unseen movies</li>\n",
    "<li>sort predicted ratings </li>\n",
    "<li>recommed movies based on highest raitings.</li>\n",
    "\n",
    "\n",
    "## Pseudocode:\n",
    "<code>\n",
    "#stage 1<br>\n",
    "u = Input(shape=(1,)) # u for user<br>\n",
    "m = Input(shape=(1,)) # m for movie<br>\n",
    "\n",
    "#stage 2: convert u and m to feature vectors using embeddings<br>\n",
    "u_emb = Embedding(num_users, embedding_dim)(u)<br>\n",
    "m_emb = Embedding(num_users, embedding_dim)(m)<br>\n",
    "\n",
    "#stage 3: concatenate for a single feature vector<br>\n",
    "x = Concat()(u_emb, m_emb)<br>\n",
    "\n",
    "#stage 4: model using ANN<br>\n",
    "x = Dense(512, activation='relu')(x)<br>\n",
    "x = Dense(1)(x)<br>\n",
    "\n",
    "\n",
    "</code>"
   ],
   "metadata": {}
  },
  {
   "cell_type": "code",
   "execution_count": null,
   "source": [],
   "outputs": [],
   "metadata": {}
  }
 ],
 "metadata": {
  "orig_nbformat": 4,
  "language_info": {
   "name": "python"
  }
 },
 "nbformat": 4,
 "nbformat_minor": 2
}